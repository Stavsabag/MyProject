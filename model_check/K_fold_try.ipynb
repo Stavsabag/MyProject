{
 "cells": [
  {
   "cell_type": "code",
   "execution_count": 8,
   "id": "85c9fdc1-0ff0-411f-aabb-71e9c9de9ed0",
   "metadata": {},
   "outputs": [],
   "source": [
    "#K fold cross validation"
   ]
  },
  {
   "cell_type": "code",
   "execution_count": 53,
   "id": "36fcfd85-b0b2-4827-b409-119c628dcc8c",
   "metadata": {},
   "outputs": [],
   "source": [
    "import pandas as pd\n",
    "from sklearn.utils import resample\n",
    "from sklearn.preprocessing import StandardScaler\n",
    "from sklearn.feature_selection import SelectKBest\n",
    "from sklearn.feature_selection import f_classif\n",
    "from sklearn.model_selection import train_test_split\n",
    "from sklearn.model_selection import KFold\n",
    "import warnings\n",
    "\n",
    "warnings.filterwarnings(\"ignore\")\n",
    "\n",
    "\n",
    "df = pd.read_csv('processed_data.csv')\n",
    "\n",
    "selected_columns = ['Basic description num_changes',\n",
    "        'Basic description average_edit_distance',\n",
    "        'Basic description edit_distance_per_character',\n",
    "        'Basic username num_changes',\n",
    "        'Basic username average_edit_distance',\n",
    "        'Basic username edit_distance_per_character',\n",
    "        'Basic full_name num_changes',\n",
    "        'Basic full_name average_edit_distance',\n",
    "        'Basic full_name edit_distance_per_character',\n",
    "        'Activity followers_count average_diff',\n",
    "        'Activity favourites_count average_diff',\n",
    "        'Activity friends_count average_diff',\n",
    "        'Activity listed_count average_diff',\n",
    "        'Activity statuses_count average_diff',\n",
    "        'Privacy Exists']\n",
    "\n",
    "\n",
    "df_new = df[selected_columns]\n",
    "\n",
    "df_majority = df_new[df_new['Privacy Exists']==0]\n",
    "df_minority = df_new[df_new['Privacy Exists']==1]\n",
    "df_majority_downsampled = resample(df_majority, \n",
    "                                 replace=False,    # sample without replacement\n",
    "                                 n_samples=2750,     # to match minority class\n",
    "                                 random_state=123) # reproducible results\n",
    "df_downsampled = pd.concat([df_majority_downsampled, df_minority])\n",
    "\n",
    "X = df_downsampled.iloc[:, 0:-1].values\n",
    "Y = df_downsampled.iloc[:, -1:].values\n",
    "\n",
    "\n",
    "scaler = StandardScaler(); X = scaler.fit_transform(X)\n",
    "X_new = SelectKBest(f_classif, k=14).fit_transform(X, Y)\n",
    "\n",
    "\n",
    "X_train, X_test, y_train, y_test = train_test_split(X_new, Y, test_size=0.3, random_state = 5)\n",
    "kf = KFold(n_splits=10, shuffle=True, random_state=5)\n"
   ]
  },
  {
   "cell_type": "code",
   "execution_count": 45,
   "id": "192fb8b0-f1ce-413d-8961-52e069b8a47f",
   "metadata": {},
   "outputs": [
    {
     "name": "stdout",
     "output_type": "stream",
     "text": [
      "K fold \n",
      "\n",
      "Training Random Forest\n",
      "Average train accuracy: 0.9076978810304942\n",
      "Average test accuracy: 0.6435367662640391\n",
      "\n",
      " Training Random Forest\n",
      "train cross val 0.9077866321082526\n",
      "test cross val 0.6604336713661473\n",
      "train acc 0.9077897054775668\n",
      "test acc 0.6604621309370988\n"
     ]
    }
   ],
   "source": [
    "from sklearn.model_selection import cross_val_score\n",
    "from sklearn.metrics import accuracy_score\n",
    "from sklearn.ensemble import RandomForestClassifier\n",
    "\n",
    "models = {\n",
    "    'Random Forest': RandomForestClassifier(n_estimators=130, max_depth = 100, min_samples_split = 6,min_samples_leaf = 3, bootstrap = False,max_features = 'auto'),\n",
    "}\n",
    "\n",
    "    \n",
    "print('K fold \\n')\n",
    "    \n",
    "for name, model in models.items():\n",
    "    print('Training', name)\n",
    "\n",
    "    clf = model\n",
    "\n",
    "    train_acc_scores = []\n",
    "    test_acc_scores = []\n",
    "\n",
    "    for train_index, test_index in kf.split(X_train):\n",
    "        X_train_fold, X_val_fold = X_train[train_index], X_train[test_index]\n",
    "        y_train_fold, y_val_fold = y_train[train_index], y_train[test_index]\n",
    "\n",
    "        clf.fit(X_train_fold, y_train_fold)\n",
    "\n",
    "        y_pred_train = clf.predict(X_train_fold)\n",
    "        y_pred_val = clf.predict(X_val_fold)\n",
    "\n",
    "        train_acc = accuracy_score(y_train_fold, y_pred_train)\n",
    "        test_acc = accuracy_score(y_val_fold, y_pred_val)\n",
    "\n",
    "        train_acc_scores.append(train_acc)\n",
    "        test_acc_scores.append(test_acc)\n",
    "\n",
    "    avg_train_acc = sum(train_acc_scores) / len(train_acc_scores)\n",
    "    avg_test_acc = sum(test_acc_scores) / len(test_acc_scores)\n",
    "\n",
    "    print('Average train accuracy:', avg_train_acc)\n",
    "    print('Average test accuracy:', avg_test_acc)\n",
    "    \n",
    "    \n",
    "for name, model in models.items():\n",
    "    print('\\n Training', name)\n",
    "\n",
    "    clf = model\n",
    "    clf = clf.fit(X_train, y_train)\n",
    "\n",
    "    y_pred_train = clf.predict(X_train)\n",
    "    y_pred_test = clf.predict(X_test)\n",
    "\n",
    "    scores_train = cross_val_score(clf, y_train, y_pred_train, cv=5)\n",
    "    print('train cross val',scores_train.mean())\n",
    "    scores_test = cross_val_score(clf, y_test, y_pred_test, cv=5)\n",
    "    print('test cross val',scores_test.mean())\n",
    "\n",
    "    scores_train = accuracy_score(y_train, y_pred_train)\n",
    "    print('train acc',scores_train.mean())\n",
    "    scores_test = accuracy_score(y_test, y_pred_test)\n",
    "    print('test acc',scores_test.mean())\n"
   ]
  },
  {
   "cell_type": "code",
   "execution_count": 47,
   "id": "89701445-600b-43aa-a872-f2f7782f50c8",
   "metadata": {},
   "outputs": [
    {
     "name": "stdout",
     "output_type": "stream",
     "text": [
      "[0.6538461538461539, 0.6291208791208791, 0.6785714285714286, 0.6473829201101928, 0.6308539944903582, 0.5922865013774105, 0.6198347107438017, 0.6666666666666666, 0.6391184573002755, 0.6776859504132231]\n"
     ]
    }
   ],
   "source": [
    "print(test_acc_scores)"
   ]
  },
  {
   "cell_type": "code",
   "execution_count": 46,
   "id": "06593ec3-c930-4d7b-b00f-7b3238b62b7f",
   "metadata": {},
   "outputs": [
    {
     "data": {
      "image/png": "[encoded data removed]",
      "text/plain": [
       "<Figure size 640x480 with 2 Axes>"
      ]
     },
     "metadata": {},
     "output_type": "display_data"
    },
    {
     "data": {
      "text/plain": [
       "<Figure size 640x480 with 0 Axes>"
      ]
     },
     "metadata": {},
     "output_type": "display_data"
    },
    {
     "data": {
      "image/png": "[encoded data removed]",
      "text/plain": [
       "<Figure size 640x480 with 2 Axes>"
      ]
     },
     "metadata": {},
     "output_type": "display_data"
    }
   ],
   "source": [
    "from sklearn.metrics import confusion_matrix,ConfusionMatrixDisplay\n",
    "import matplotlib.pyplot as plt\n",
    "\n",
    "confusion_matrix_test = confusion_matrix(y_test, y_pred_test)\n",
    "cm_display = ConfusionMatrixDisplay(confusion_matrix = confusion_matrix_test, display_labels = [False, True])\n",
    "cm_display.plot()\n",
    "plt.show()\n",
    "plt.figure()\n",
    "\n",
    "confusion_matrix_train = confusion_matrix(y_train, y_pred_train)\n",
    "cm_display = ConfusionMatrixDisplay(confusion_matrix = confusion_matrix_train, display_labels = [False, True])\n",
    "cm_display.plot()\n",
    "plt.show()"
   ]
  },
  {
   "cell_type": "code",
   "execution_count": 7,
   "id": "e012d2d3-9ac0-4d26-8201-a4131ba57a5d",
   "metadata": {},
   "outputs": [
    {
     "data": {
      "text/plain": [
       "array([0.7169448 , 0.70218228, 0.70474968, 0.70410783, 0.70988447])"
      ]
     },
     "execution_count": 7,
     "metadata": {},
     "output_type": "execute_result"
    }
   ],
   "source": [
    "from sklearn.model_selection import ShuffleSplit\n",
    "\n",
    "clf = model\n",
    "n_samples = X.shape[0]\n",
    "cv = ShuffleSplit(n_splits=5, test_size=0.3, random_state=0)\n",
    "cross_val_score(clf, X, Y, cv=cv)"
   ]
  },
  {
   "cell_type": "code",
   "execution_count": 18,
   "id": "72d37043-f91a-40d2-a013-2d7700a2ee67",
   "metadata": {},
   "outputs": [
    {
     "data": {
      "text/plain": [
       "Index(['user_id', 'Activity favourites_count average_diff',\n",
       "       'Activity favourites_count cv_diff',\n",
       "       'Activity favourites_count mad_diff',\n",
       "       'Activity favourites_count max_diff',\n",
       "       'Activity favourites_count median_diff',\n",
       "       'Activity favourites_count min_diff',\n",
       "       'Activity favourites_count range_diff',\n",
       "       'Activity favourites_count skew_diff',\n",
       "       'Activity favourites_count std_diff',\n",
       "       'Activity favourites_count var_diff',\n",
       "       'Activity followers_count average_diff',\n",
       "       'Activity followers_count cv_diff', 'Activity followers_count mad_diff',\n",
       "       'Activity followers_count max_diff',\n",
       "       'Activity followers_count median_diff',\n",
       "       'Activity followers_count min_diff',\n",
       "       'Activity followers_count range_diff',\n",
       "       'Activity followers_count skew_diff',\n",
       "       'Activity followers_count std_diff',\n",
       "       'Activity followers_count var_diff',\n",
       "       'Activity friends_count average_diff', 'Activity friends_count cv_diff',\n",
       "       'Activity friends_count mad_diff', 'Activity friends_count max_diff',\n",
       "       'Activity friends_count median_diff', 'Activity friends_count min_diff',\n",
       "       'Activity friends_count range_diff', 'Activity friends_count skew_diff',\n",
       "       'Activity friends_count std_diff', 'Activity friends_count var_diff',\n",
       "       'Activity listed_count average_diff', 'Activity listed_count cv_diff',\n",
       "       'Activity listed_count mad_diff', 'Activity listed_count max_diff',\n",
       "       'Activity listed_count median_diff', 'Activity listed_count min_diff',\n",
       "       'Activity listed_count range_diff', 'Activity listed_count skew_diff',\n",
       "       'Activity listed_count std_diff', 'Activity listed_count var_diff',\n",
       "       'Activity statuses_count average_diff',\n",
       "       'Activity statuses_count cv_diff', 'Activity statuses_count mad_diff',\n",
       "       'Activity statuses_count max_diff',\n",
       "       'Activity statuses_count median_diff',\n",
       "       'Activity statuses_count min_diff',\n",
       "       'Activity statuses_count range_diff',\n",
       "       'Activity statuses_count skew_diff', 'Activity statuses_count std_diff',\n",
       "       'Activity statuses_count var_diff',\n",
       "       'Basic description average_edit_distance',\n",
       "       'Basic description cv_edit_distance',\n",
       "       'Basic description edit_distance_per_character',\n",
       "       'Basic description mad_edit_distance',\n",
       "       'Basic description max_edit_distance',\n",
       "       'Basic description median_edit_distance',\n",
       "       'Basic description min_edit_distance',\n",
       "       'Basic description mode_edit_distance', 'Basic description num_changes',\n",
       "       'Basic description range_edit_distance',\n",
       "       'Basic description skew_edit_distance',\n",
       "       'Basic description std_edit_distance',\n",
       "       'Basic description var_edit_distance',\n",
       "       'Basic full_name average_edit_distance',\n",
       "       'Basic full_name cv_edit_distance',\n",
       "       'Basic full_name edit_distance_per_character',\n",
       "       'Basic full_name mad_edit_distance',\n",
       "       'Basic full_name max_edit_distance',\n",
       "       'Basic full_name median_edit_distance',\n",
       "       'Basic full_name min_edit_distance',\n",
       "       'Basic full_name mode_edit_distance', 'Basic full_name num_changes',\n",
       "       'Basic full_name range_edit_distance',\n",
       "       'Basic full_name skew_edit_distance',\n",
       "       'Basic full_name std_edit_distance',\n",
       "       'Basic full_name var_edit_distance',\n",
       "       'Basic username average_edit_distance',\n",
       "       'Basic username cv_edit_distance',\n",
       "       'Basic username edit_distance_per_character',\n",
       "       'Basic username mad_edit_distance', 'Basic username max_edit_distance',\n",
       "       'Basic username median_edit_distance',\n",
       "       'Basic username min_edit_distance', 'Basic username mode_edit_distance',\n",
       "       'Basic username num_changes', 'Basic username range_edit_distance',\n",
       "       'Basic username skew_edit_distance', 'Basic username std_edit_distance',\n",
       "       'Basic username var_edit_distance', 'Privacy Exists'],\n",
       "      dtype='object')"
      ]
     },
     "execution_count": 18,
     "metadata": {},
     "output_type": "execute_result"
    }
   ],
   "source": [
    "df.columns"
   ]
  },
  {
   "cell_type": "code",
   "execution_count": 43,
   "id": "8345467e-4251-4e3d-bb6e-9d09f985a58d",
   "metadata": {},
   "outputs": [
    {
     "data": {
      "text/plain": [
       "(155128, 15)"
      ]
     },
     "execution_count": 43,
     "metadata": {},
     "output_type": "execute_result"
    }
   ],
   "source": [
    "df = pd.read_csv('processed_data.csv')\n",
    "\n",
    "\n",
    "pattern = r'average|std|num_changes'\n",
    "selected_columns = [col for col in df.columns if re.search(pattern, col)]\n",
    "\n",
    "\n",
    "selected_columns = ['Basic description num_changes',\n",
    "        'Basic description average_edit_distance',\n",
    "        'Basic description edit_distance_per_character',\n",
    "        'Basic username num_changes',\n",
    "        'Basic username average_edit_distance',\n",
    "        'Basic username edit_distance_per_character',\n",
    "        'Basic full_name num_changes',\n",
    "        'Basic full_name average_edit_distance',\n",
    "        'Basic full_name edit_distance_per_character',\n",
    "        'Activity followers_count average_diff',\n",
    "        'Activity favourites_count average_diff',\n",
    "        'Activity friends_count average_diff',\n",
    "        'Activity listed_count average_diff',\n",
    "        'Activity statuses_count average_diff',\n",
    "        'Privacy Exists']\n",
    "\n",
    "df_new = df[selected_columns]\n",
    "\n",
    "df_new.shape"
   ]
  },
  {
   "cell_type": "code",
   "execution_count": null,
   "id": "c440dba6-ef42-4b98-88cd-6297285bc263",
   "metadata": {},
   "outputs": [],
   "source": []
  }
 ],
 "metadata": {
  "kernelspec": {
   "display_name": "Python 3 (ipykernel)",
   "language": "python",
   "name": "python3"
  },
  "language_info": {
   "codemirror_mode": {
    "name": "ipython",
    "version": 3
   },
   "file_extension": ".py",
   "mimetype": "text/x-python",
   "name": "python",
   "nbconvert_exporter": "python",
   "pygments_lexer": "ipython3",
   "version": "3.10.9"
  }
 },
 "nbformat": 4,
 "nbformat_minor": 5
}
