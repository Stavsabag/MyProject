{
 "cells": [
  {
   "cell_type": "code",
   "execution_count": null,
   "id": "02f448d4-1839-4868-b53e-98db87cb21fa",
   "metadata": {},
   "outputs": [],
   "source": [
    "import sqlite3\n",
    "import pandas as pd\n",
    "\n",
    "# Create a connection to the database\n",
    "conn = sqlite3.connect('TwitterUserChanges.db')\n",
    "\n",
    "# Retrieve the data from the table\n",
    "df = pd.read_sql_query('SELECT user_id, feature_name, value FROM processed_data', conn)\n",
    "\n",
    "# Pivot the data to create a table with 103 columns\n",
    "df_pivot = df.pivot(index='user_id', columns='feature_name', values='value').reset_index()\n",
    "\n",
    "# Reorder the columns to move Privacy Exists to the last column\n",
    "columns = df_pivot.columns.tolist()\n",
    "columns.remove('Privacy Exists')\n",
    "columns.append('Privacy Exists')\n",
    "df_pivot = df_pivot[columns]\n",
    "\n",
    "# Remove the name of the index column\n",
    "df_pivot.columns.name = None\n",
    "\n",
    "# Save the pivoted data to a CSV file\n",
    "df_pivot.to_csv('processed_data.csv', index=False)\n",
    "\n",
    "# Close the connection to the database\n",
    "conn.close()"
   ]
  }
 ],
 "metadata": {
  "kernelspec": {
   "display_name": "Python 3 (ipykernel)",
   "language": "python",
   "name": "python3"
  },
  "language_info": {
   "codemirror_mode": {
    "name": "ipython",
    "version": 3
   },
   "file_extension": ".py",
   "mimetype": "text/x-python",
   "name": "python",
   "nbconvert_exporter": "python",
   "pygments_lexer": "ipython3",
   "version": "3.10.9"
  }
 },
 "nbformat": 4,
 "nbformat_minor": 5
}
